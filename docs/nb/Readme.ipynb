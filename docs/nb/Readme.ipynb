{
 "cells": [
  {
   "cell_type": "code",
   "execution_count": 5,
   "id": "126cc10f",
   "metadata": {},
   "outputs": [],
   "source": [
    "# Xvc"
   ]
  },
  {
   "cell_type": "markdown",
   "id": "068f1cff-2437-499d-9673-d88bc2a835c9",
   "metadata": {},
   "source": [
    "This is the Python port of [Xvc](https://github.com/iesahin/xvc). Xvc's goal is let users perform all ML operations regarding data, files, models and pipelines from the command line, and version all of these on top of Git. Xvc.py extends this goal by allowing all commands to be run from Python shells, code and Jupyter notebooks. "
   ]
  },
  {
   "cell_type": "markdown",
   "id": "a0d066dc-91b4-491d-a800-4478ce7a60c5",
   "metadata": {},
   "source": [
    "!pip install xvc"
   ]
  },
  {
   "cell_type": "code",
   "execution_count": 1,
   "id": "e4efce5b",
   "metadata": {},
   "outputs": [],
   "source": [
    "from xvc import Xvc\n",
    "\n",
    "xvc = Xvc()\n"
   ]
  },
  {
   "cell_type": "code",
   "execution_count": 3,
   "id": "75cfac9d",
   "metadata": {},
   "outputs": [],
   "source": [
    "!xvc-test-helper create-directory-tree --directories 3 --files 3 --root test-data --seed 20240101"
   ]
  },
  {
   "cell_type": "code",
   "execution_count": 4,
   "id": "f7f3449b-ff8f-49c7-9f2d-2647787d69fa",
   "metadata": {},
   "outputs": [
    {
     "name": "stdout",
     "output_type": "stream",
     "text": [
      "\u001b[01;34m.\u001b[0m\n",
      "├── \u001b[00mReadme.ipynb\u001b[0m\n",
      "└── \u001b[01;34mtest-data\u001b[0m\n",
      "    ├── \u001b[01;34mdir-0001\u001b[0m\n",
      "    │   ├── \u001b[00mfile-0001.bin\u001b[0m\n",
      "    │   ├── \u001b[00mfile-0002.bin\u001b[0m\n",
      "    │   └── \u001b[00mfile-0003.bin\u001b[0m\n",
      "    ├── \u001b[01;34mdir-0002\u001b[0m\n",
      "    │   ├── \u001b[00mfile-0001.bin\u001b[0m\n",
      "    │   ├── \u001b[00mfile-0002.bin\u001b[0m\n",
      "    │   └── \u001b[00mfile-0003.bin\u001b[0m\n",
      "    └── \u001b[01;34mdir-0003\u001b[0m\n",
      "        ├── \u001b[00mfile-0001.bin\u001b[0m\n",
      "        ├── \u001b[00mfile-0002.bin\u001b[0m\n",
      "        └── \u001b[00mfile-0003.bin\u001b[0m\n",
      "\n",
      "5 directories, 10 files\n"
     ]
    }
   ],
   "source": [
    "!tree"
   ]
  },
  {
   "cell_type": "code",
   "execution_count": null,
   "id": "9b0f7115-4cbf-4b17-b799-520c9aba9428",
   "metadata": {},
   "outputs": [],
   "source": [
    "xvc.file().track(\"test-data\")"
   ]
  }
 ],
 "metadata": {
  "kernelspec": {
   "display_name": "Python 3 (ipykernel)",
   "language": "python",
   "name": "python3"
  },
  "language_info": {
   "codemirror_mode": {
    "name": "ipython",
    "version": 3
   },
   "file_extension": ".py",
   "mimetype": "text/x-python",
   "name": "python",
   "nbconvert_exporter": "python",
   "pygments_lexer": "ipython3",
   "version": "3.11.6"
  }
 },
 "nbformat": 4,
 "nbformat_minor": 5
}
