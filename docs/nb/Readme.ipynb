{
 "cells": [
  {
   "cell_type": "code",
   "execution_count": 5,
   "id": "126cc10f",
   "metadata": {},
   "outputs": [],
   "source": [
    "# Xvc"
   ]
  },
  {
   "cell_type": "markdown",
   "id": "068f1cff-2437-499d-9673-d88bc2a835c9",
   "metadata": {},
   "source": [
    "This is the Python port of [Xvc](https://github.com/iesahin/xvc). Xvc's goal is let users perform all ML operations regarding data, files, models and pipelines from the command line, and version all of these on top of Git. Xvc.py extends this goal by allowing all commands to be run from Python shells, code and Jupyter notebooks. "
   ]
  },
  {
   "cell_type": "markdown",
   "id": "1f8d3713-3641-4a8f-ab05-b0802a4323f9",
   "metadata": {},
   "source": [
    "!pip install xvc"
   ]
  },
  {
   "cell_type": "code",
   "execution_count": 2,
   "id": "e4efce5b",
   "metadata": {},
   "outputs": [],
   "source": [
    "from xvc import Xvc"
   ]
  },
  {
   "cell_type": "markdown",
   "id": "512c3978-4fb3-472c-a5f9-183e8fc9c101",
   "metadata": {},
   "source": [
    "Let's create a directory tree have with the data files we want to track."
   ]
  },
  {
   "cell_type": "code",
   "execution_count": 2,
   "id": "75cfac9d",
   "metadata": {},
   "outputs": [],
   "source": [
    "!xvc-test-helper create-directory-tree --directories 3 --files 3 --root test-data --seed 20240101"
   ]
  },
  {
   "cell_type": "code",
   "execution_count": 3,
   "id": "f7f3449b-ff8f-49c7-9f2d-2647787d69fa",
   "metadata": {},
   "outputs": [
    {
     "name": "stdout",
     "output_type": "stream",
     "text": [
      "\u001b[01;34m.\u001b[0m\n",
      "├── \u001b[00mReadme.ipynb\u001b[0m\n",
      "└── \u001b[01;34mtest-data\u001b[0m\n",
      "    ├── \u001b[01;34mdir-0001\u001b[0m\n",
      "    │   ├── \u001b[00mfile-0001.bin\u001b[0m\n",
      "    │   ├── \u001b[00mfile-0002.bin\u001b[0m\n",
      "    │   └── \u001b[00mfile-0003.bin\u001b[0m\n",
      "    ├── \u001b[01;34mdir-0002\u001b[0m\n",
      "    │   ├── \u001b[00mfile-0001.bin\u001b[0m\n",
      "    │   ├── \u001b[00mfile-0002.bin\u001b[0m\n",
      "    │   └── \u001b[00mfile-0003.bin\u001b[0m\n",
      "    └── \u001b[01;34mdir-0003\u001b[0m\n",
      "        ├── \u001b[00mfile-0001.bin\u001b[0m\n",
      "        ├── \u001b[00mfile-0002.bin\u001b[0m\n",
      "        └── \u001b[00mfile-0003.bin\u001b[0m\n",
      "\n",
      "5 directories, 10 files\n"
     ]
    }
   ],
   "source": [
    "!tree"
   ]
  },
  {
   "cell_type": "markdown",
   "id": "546239e2-de27-4af1-859d-2bc5a4c56333",
   "metadata": {},
   "source": [
    "Now we can initialize Xvc repository. We first init Git in the directory. Xvc tracks binary files with their metadata (size, timestamp and digest) and this metadata is kept in text files. You can use Xvc without Git, but adding versioning to your data is usually a good choice.   Xvc manages Git operations on the text files it creates automatically by default, so it won't add any extra commands to the workflow."
   ]
  },
  {
   "cell_type": "code",
   "execution_count": null,
   "id": "8263b5a3-f602-4a55-a258-44cd3f99f33a",
   "metadata": {},
   "outputs": [],
   "source": [
    "!git init test-data/"
   ]
  },
  {
   "cell_type": "markdown",
   "id": "415297f2-42cc-4189-bb4d-40e3f96503fe",
   "metadata": {},
   "source": [
    "Now we can init the Xvc repository"
   ]
  },
  {
   "cell_type": "markdown",
   "id": "4684fa48-6914-4594-b105-8a6d83a2fb30",
   "metadata": {},
   "source": [
    "First we create an Xvc instance. You can specify the workdir and this instance will work on that directory. You can use multiple such instances to manage multiple directories. "
   ]
  },
  {
   "cell_type": "code",
   "execution_count": 3,
   "id": "0d844f5f-0026-4158-8ac0-1581434cbfcd",
   "metadata": {},
   "outputs": [],
   "source": [
    "xvc = Xvc(workdir=\"test-data\", debug=True)"
   ]
  },
  {
   "cell_type": "markdown",
   "id": "eb430c65-7e92-49f3-8a0b-ea45ee4c50ef",
   "metadata": {},
   "source": [
    "Let's initialize Xvc in the directory. This will  create a `.xvc` directory, will put several initial files and also create a `.gitignore` entry for those elements that shouldn't be tracked by Git. "
   ]
  },
  {
   "cell_type": "code",
   "execution_count": null,
   "id": "4895e57f-75c8-4dd3-ab5a-9a548fd83518",
   "metadata": {},
   "outputs": [],
   "source": [
    "xvc.init()"
   ]
  },
  {
   "cell_type": "code",
   "execution_count": null,
   "id": "9b0f7115-4cbf-4b17-b799-520c9aba9428",
   "metadata": {},
   "outputs": [],
   "source": [
    "xvc.file().track(\"*\")"
   ]
  }
 ],
 "metadata": {
  "kernelspec": {
   "display_name": "Python 3 (ipykernel)",
   "language": "python",
   "name": "python3"
  },
  "language_info": {
   "codemirror_mode": {
    "name": "ipython",
    "version": 3
   },
   "file_extension": ".py",
   "mimetype": "text/x-python",
   "name": "python",
   "nbconvert_exporter": "python",
   "pygments_lexer": "ipython3",
   "version": "3.11.7"
  }
 },
 "nbformat": 4,
 "nbformat_minor": 5
}
